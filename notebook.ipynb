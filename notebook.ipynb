{
 "cells": [
  {
   "cell_type": "markdown",
   "id": "31e02b25",
   "metadata": {},
   "source": [
    "# Title markdown and how to make it look fancy\n",
    "\n",
    "\n",
    "You can use Markdown to create visually appealing documentation in your Jupyter Notebook. Here are some tips:\n",
    "\n",
    "## Titles & Headings\n",
    "\n",
    "Use `#` for main titles, `##` for subtitles, and so on:\n",
    "\n",
    "```markdown\n",
    "# Main Title\n",
    "## Section Title\n",
    "### Subsection\n",
    "```\n",
    "\n",
    "## Styling Text\n",
    "\n",
    "- **Bold:** `**bold**` → **bold**\n",
    "- *Italic:* `*italic*` → *italic*\n",
    "- `Monospace:` `` `code` `` → `code`\n",
    "\n",
    "## Lists\n",
    "\n",
    "- Bullet list:\n",
    "    - `- Item 1`\n",
    "    - `- Item 2`\n",
    "- Numbered list:\n",
    "    1. `1. First`\n",
    "    2. `2. Second`\n",
    "\n",
    "## Blockquotes\n",
    "\n",
    "> Use `>` for blockquotes.\n",
    "\n",
    "## Tables\n",
    "\n",
    "```markdown\n",
    "| Column 1 | Column 2 |\n",
    "|----------|----------|\n",
    "| Value 1  | Value 2  |\n",
    "```\n",
    "\n",
    "## Horizontal Line\n",
    "\n",
    "```\n",
    "---\n",
    "```\n",
    "\n",
    "---\n",
    "\n",
    "## Example\n",
    "\n",
    "```markdown\n",
    "# My Data Analysis Project\n",
    "\n",
    "**Author:** *Your Name*\n",
    "\n",
    "---\n",
    "\n",
    "## Overview\n",
    "\n",
    "This notebook analyzes sales data from various countries.\n",
    "\n",
    "> \"Data is the new oil.\"  \n",
    "> — Clive Humby\n",
    "\n",
    "| Task         | Status  |\n",
    "|--------------|---------|\n",
    "| Data Import  | ✅      |\n",
    "| Cleaning     | ✅      |\n",
    "| Analysis     | ⏳      |\n",
    "```\n",
    "\n",
    "Use these elements to make your notebook clear and visually appealing!\n",
    "Now let's start working"
   ]
  },
  {
   "cell_type": "code",
   "execution_count": 3,
   "id": "d232f551",
   "metadata": {},
   "outputs": [],
   "source": [
    "import pandas as pd\n",
    "\n",
    "df=pd.read_csv(\"orders.csv\")"
   ]
  },
  {
   "cell_type": "code",
   "execution_count": null,
   "id": "7513569c",
   "metadata": {},
   "outputs": [],
   "source": [
    "print(df)"
   ]
  },
  {
   "cell_type": "code",
   "execution_count": null,
   "id": "8dd0e7e4",
   "metadata": {
    "vscode": {
     "languageId": "markdown"
    }
   },
   "outputs": [],
   "source": [
    "Here are some tasks you can perform with your DataFrame `df`:\n",
    "\n",
    "- **Explore data**: View the first/last rows, check column names, data types, and summary statistics.\n",
    "- **Filter and sort**: Find orders by country, shipped status, category, or date; sort by price, quantity, or date.\n",
    "- **Group and aggregate**: Calculate total sales by country, category, or shipped status.\n",
    "- **Create new columns**: Add a \"Total\" column (`Quantity * Price`), extract year/month from `OrderDate`, etc.\n",
    "- **Visualize**: Plot sales by category, shipped vs. not shipped, or sales trends over time.\n",
    "- **Handle missing data**: Check for and fill or drop missing values.\n",
    "- **Export data**: Save filtered or processed data to CSV or Excel.\n",
    "- **Advanced analysis**: Find top customers, most popular products, or shipping rates by country.\n",
    "\n"
   ]
  },
  {
   "cell_type": "code",
   "execution_count": null,
   "id": "9496f176",
   "metadata": {},
   "outputs": [],
   "source": [
    "df.head() #shows first 5 rows - ctrl+alt+enter for quick run"
   ]
  },
  {
   "cell_type": "code",
   "execution_count": 12,
   "id": "fd6a5432",
   "metadata": {},
   "outputs": [
    {
     "data": {
      "text/html": [
       "<div>\n",
       "<style scoped>\n",
       "    .dataframe tbody tr th:only-of-type {\n",
       "        vertical-align: middle;\n",
       "    }\n",
       "\n",
       "    .dataframe tbody tr th {\n",
       "        vertical-align: top;\n",
       "    }\n",
       "\n",
       "    .dataframe thead th {\n",
       "        text-align: right;\n",
       "    }\n",
       "</style>\n",
       "<table border=\"1\" class=\"dataframe\">\n",
       "  <thead>\n",
       "    <tr style=\"text-align: right;\">\n",
       "      <th></th>\n",
       "      <th>OrderID</th>\n",
       "      <th>CustomerName</th>\n",
       "      <th>Product</th>\n",
       "      <th>Category</th>\n",
       "      <th>Quantity</th>\n",
       "      <th>Price</th>\n",
       "      <th>OrderDate</th>\n",
       "      <th>Shipped</th>\n",
       "      <th>Country</th>\n",
       "    </tr>\n",
       "  </thead>\n",
       "  <tbody>\n",
       "    <tr>\n",
       "      <th>35</th>\n",
       "      <td>1036</td>\n",
       "      <td>Emma Thompson</td>\n",
       "      <td>Desk Lamp with USB</td>\n",
       "      <td>Furniture</td>\n",
       "      <td>1</td>\n",
       "      <td>68.0</td>\n",
       "      <td>2024-07-07</td>\n",
       "      <td>No</td>\n",
       "      <td>UK</td>\n",
       "    </tr>\n",
       "    <tr>\n",
       "      <th>36</th>\n",
       "      <td>1037</td>\n",
       "      <td>Carlos Santos</td>\n",
       "      <td>Wireless Earbuds</td>\n",
       "      <td>Electronics</td>\n",
       "      <td>1</td>\n",
       "      <td>125.0</td>\n",
       "      <td>2024-07-08</td>\n",
       "      <td>Yes</td>\n",
       "      <td>Portugal</td>\n",
       "    </tr>\n",
       "    <tr>\n",
       "      <th>37</th>\n",
       "      <td>1038</td>\n",
       "      <td>Leila Mansouri</td>\n",
       "      <td>Desk Pad</td>\n",
       "      <td>Furniture</td>\n",
       "      <td>1</td>\n",
       "      <td>28.0</td>\n",
       "      <td>2024-07-09</td>\n",
       "      <td>Yes</td>\n",
       "      <td>Iran</td>\n",
       "    </tr>\n",
       "    <tr>\n",
       "      <th>38</th>\n",
       "      <td>1039</td>\n",
       "      <td>Daniel Kim</td>\n",
       "      <td>Power Strip</td>\n",
       "      <td>Electronics</td>\n",
       "      <td>2</td>\n",
       "      <td>18.0</td>\n",
       "      <td>2024-07-10</td>\n",
       "      <td>No</td>\n",
       "      <td>South Korea</td>\n",
       "    </tr>\n",
       "    <tr>\n",
       "      <th>39</th>\n",
       "      <td>1040</td>\n",
       "      <td>Anna Ivanova</td>\n",
       "      <td>Desk Clock</td>\n",
       "      <td>Furniture</td>\n",
       "      <td>1</td>\n",
       "      <td>35.0</td>\n",
       "      <td>2024-07-11</td>\n",
       "      <td>Yes</td>\n",
       "      <td>Ukraine</td>\n",
       "    </tr>\n",
       "  </tbody>\n",
       "</table>\n",
       "</div>"
      ],
      "text/plain": [
       "    OrderID    CustomerName             Product     Category  Quantity  Price  \\\n",
       "35     1036   Emma Thompson  Desk Lamp with USB    Furniture         1   68.0   \n",
       "36     1037   Carlos Santos    Wireless Earbuds  Electronics         1  125.0   \n",
       "37     1038  Leila Mansouri            Desk Pad    Furniture         1   28.0   \n",
       "38     1039      Daniel Kim         Power Strip  Electronics         2   18.0   \n",
       "39     1040    Anna Ivanova          Desk Clock    Furniture         1   35.0   \n",
       "\n",
       "     OrderDate Shipped      Country  \n",
       "35  2024-07-07      No           UK  \n",
       "36  2024-07-08     Yes     Portugal  \n",
       "37  2024-07-09     Yes         Iran  \n",
       "38  2024-07-10      No  South Korea  \n",
       "39  2024-07-11     Yes      Ukraine  "
      ]
     },
     "execution_count": 12,
     "metadata": {},
     "output_type": "execute_result"
    }
   ],
   "source": [
    "df.tail()"
   ]
  },
  {
   "cell_type": "markdown",
   "id": "b97c58aa",
   "metadata": {},
   "source": [
    "Ctrl+enter - run cell\n",
    "shift+enter - run cell and select/insert below\n",
    "alt+enter - run sell and insert below"
   ]
  },
  {
   "cell_type": "code",
   "execution_count": 19,
   "id": "76fab534",
   "metadata": {},
   "outputs": [
    {
     "name": "stdout",
     "output_type": "stream",
     "text": [
      "<class 'pandas.core.frame.DataFrame'>\n",
      "RangeIndex: 40 entries, 0 to 39\n",
      "Data columns (total 9 columns):\n",
      " #   Column        Non-Null Count  Dtype  \n",
      "---  ------        --------------  -----  \n",
      " 0   OrderID       40 non-null     int64  \n",
      " 1   CustomerName  40 non-null     object \n",
      " 2   Product       40 non-null     object \n",
      " 3   Category      40 non-null     object \n",
      " 4   Quantity      40 non-null     int64  \n",
      " 5   Price         40 non-null     float64\n",
      " 6   OrderDate     40 non-null     object \n",
      " 7   Shipped       40 non-null     object \n",
      " 8   Country       40 non-null     object \n",
      "dtypes: float64(1), int64(2), object(6)\n",
      "memory usage: 2.9+ KB\n"
     ]
    }
   ],
   "source": [
    "df.info()"
   ]
  },
  {
   "cell_type": "markdown",
   "id": "789839f1",
   "metadata": {},
   "source": [
    "`df.describe()` provides summary statistics for the numerical columns in the DataFrame. It includes:\n",
    "\n",
    "- **count**: Number of non-null entries\n",
    "- **mean**: Average value\n",
    "- **std**: Standard deviation\n",
    "- **min**: Minimum value\n",
    "- **25%**: 25th percentile (first quartile)\n",
    "- **50%**: 50th percentile (median)\n",
    "- **75%**: 75th percentile (third quartile)\n",
    "- **max**: Maximum value\n",
    "\n",
    "This helps you quickly understand the distribution and spread of your data."
   ]
  },
  {
   "cell_type": "code",
   "execution_count": 14,
   "id": "f6d79ab2",
   "metadata": {},
   "outputs": [
    {
     "data": {
      "text/html": [
       "<div>\n",
       "<style scoped>\n",
       "    .dataframe tbody tr th:only-of-type {\n",
       "        vertical-align: middle;\n",
       "    }\n",
       "\n",
       "    .dataframe tbody tr th {\n",
       "        vertical-align: top;\n",
       "    }\n",
       "\n",
       "    .dataframe thead th {\n",
       "        text-align: right;\n",
       "    }\n",
       "</style>\n",
       "<table border=\"1\" class=\"dataframe\">\n",
       "  <thead>\n",
       "    <tr style=\"text-align: right;\">\n",
       "      <th></th>\n",
       "      <th>OrderID</th>\n",
       "      <th>Quantity</th>\n",
       "      <th>Price</th>\n",
       "    </tr>\n",
       "  </thead>\n",
       "  <tbody>\n",
       "    <tr>\n",
       "      <th>count</th>\n",
       "      <td>40.000000</td>\n",
       "      <td>40.000000</td>\n",
       "      <td>40.000000</td>\n",
       "    </tr>\n",
       "    <tr>\n",
       "      <th>mean</th>\n",
       "      <td>1020.500000</td>\n",
       "      <td>5.450000</td>\n",
       "      <td>106.457500</td>\n",
       "    </tr>\n",
       "    <tr>\n",
       "      <th>std</th>\n",
       "      <td>11.690452</td>\n",
       "      <td>15.903475</td>\n",
       "      <td>201.091854</td>\n",
       "    </tr>\n",
       "    <tr>\n",
       "      <th>min</th>\n",
       "      <td>1001.000000</td>\n",
       "      <td>1.000000</td>\n",
       "      <td>0.800000</td>\n",
       "    </tr>\n",
       "    <tr>\n",
       "      <th>25%</th>\n",
       "      <td>1010.750000</td>\n",
       "      <td>1.000000</td>\n",
       "      <td>18.000000</td>\n",
       "    </tr>\n",
       "    <tr>\n",
       "      <th>50%</th>\n",
       "      <td>1020.500000</td>\n",
       "      <td>1.000000</td>\n",
       "      <td>43.500000</td>\n",
       "    </tr>\n",
       "    <tr>\n",
       "      <th>75%</th>\n",
       "      <td>1030.250000</td>\n",
       "      <td>2.250000</td>\n",
       "      <td>112.500000</td>\n",
       "    </tr>\n",
       "    <tr>\n",
       "      <th>max</th>\n",
       "      <td>1040.000000</td>\n",
       "      <td>100.000000</td>\n",
       "      <td>1200.000000</td>\n",
       "    </tr>\n",
       "  </tbody>\n",
       "</table>\n",
       "</div>"
      ],
      "text/plain": [
       "           OrderID    Quantity        Price\n",
       "count    40.000000   40.000000    40.000000\n",
       "mean   1020.500000    5.450000   106.457500\n",
       "std      11.690452   15.903475   201.091854\n",
       "min    1001.000000    1.000000     0.800000\n",
       "25%    1010.750000    1.000000    18.000000\n",
       "50%    1020.500000    1.000000    43.500000\n",
       "75%    1030.250000    2.250000   112.500000\n",
       "max    1040.000000  100.000000  1200.000000"
      ]
     },
     "execution_count": 14,
     "metadata": {},
     "output_type": "execute_result"
    }
   ],
   "source": [
    "df.describe()"
   ]
  },
  {
   "cell_type": "code",
   "execution_count": null,
   "id": "4c37105d",
   "metadata": {},
   "outputs": [
    {
     "data": {
      "text/plain": [
       "Index(['OrderID', 'CustomerName', 'Product', 'Category', 'Quantity', 'Price',\n",
       "       'OrderDate', 'Shipped', 'Country'],\n",
       "      dtype='object')"
      ]
     },
     "execution_count": 17,
     "metadata": {},
     "output_type": "execute_result"
    }
   ],
   "source": [
    "df.columns #gives us the column names as a list"
   ]
  },
  {
   "cell_type": "code",
   "execution_count": 21,
   "id": "add0fe37",
   "metadata": {},
   "outputs": [
    {
     "data": {
      "text/plain": [
       "RangeIndex(start=0, stop=40, step=1)"
      ]
     },
     "execution_count": 21,
     "metadata": {},
     "output_type": "execute_result"
    }
   ],
   "source": [
    "df.index #gives us the range of csv file"
   ]
  },
  {
   "cell_type": "markdown",
   "id": "0b4cb280",
   "metadata": {},
   "source": [
    "### you need head(), tail(), info(), describe(), columns and index commands to analyze the data and start working on it"
   ]
  }
 ],
 "metadata": {
  "kernelspec": {
   "display_name": "venv",
   "language": "python",
   "name": "python3"
  },
  "language_info": {
   "codemirror_mode": {
    "name": "ipython",
    "version": 3
   },
   "file_extension": ".py",
   "mimetype": "text/x-python",
   "name": "python",
   "nbconvert_exporter": "python",
   "pygments_lexer": "ipython3",
   "version": "3.12.0"
  }
 },
 "nbformat": 4,
 "nbformat_minor": 5
}
