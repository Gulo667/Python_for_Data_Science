{
 "cells": [
  {
   "cell_type": "markdown",
   "id": "31e02b25",
   "metadata": {},
   "source": [
    "# Title markdown and how to make it look fancy\n",
    "\n",
    "\n",
    "You can use Markdown to create visually appealing documentation in your Jupyter Notebook. Here are some tips:\n",
    "\n",
    "## Titles & Headings\n",
    "\n",
    "Use `#` for main titles, `##` for subtitles, and so on:\n",
    "\n",
    "```markdown\n",
    "# Main Title\n",
    "## Section Title\n",
    "### Subsection\n",
    "```\n",
    "\n",
    "## Styling Text\n",
    "\n",
    "- **Bold:** `**bold**` → **bold**\n",
    "- *Italic:* `*italic*` → *italic*\n",
    "- `Monospace:` `` `code` `` → `code`\n",
    "\n",
    "## Lists\n",
    "\n",
    "- Bullet list:\n",
    "    - `- Item 1`\n",
    "    - `- Item 2`\n",
    "- Numbered list:\n",
    "    1. `1. First`\n",
    "    2. `2. Second`\n",
    "\n",
    "## Blockquotes\n",
    "\n",
    "> Use `>` for blockquotes.\n",
    "\n",
    "## Tables\n",
    "\n",
    "```markdown\n",
    "| Column 1 | Column 2 |\n",
    "|----------|----------|\n",
    "| Value 1  | Value 2  |\n",
    "```\n",
    "\n",
    "## Horizontal Line\n",
    "\n",
    "```\n",
    "---\n",
    "```\n",
    "\n",
    "---\n",
    "\n",
    "## Example\n",
    "\n",
    "```markdown\n",
    "# My Data Analysis Project\n",
    "\n",
    "**Author:** *Your Name*\n",
    "\n",
    "---\n",
    "\n",
    "## Overview\n",
    "\n",
    "This notebook analyzes sales data from various countries.\n",
    "\n",
    "> \"Data is the new oil.\"  \n",
    "> — Clive Humby\n",
    "\n",
    "| Task         | Status  |\n",
    "|--------------|---------|\n",
    "| Data Import  | ✅      |\n",
    "| Cleaning     | ✅      |\n",
    "| Analysis     | ⏳      |\n",
    "```\n",
    "\n",
    "Use these elements to make your notebook clear and visually appealing!\n",
    "Now let's start working"
   ]
  },
  {
   "cell_type": "code",
   "execution_count": 2,
   "id": "d232f551",
   "metadata": {},
   "outputs": [],
   "source": [
    "import pandas as pd\n",
    "\n",
    "df=pd.read_csv(\"orders.csv\")"
   ]
  },
  {
   "cell_type": "code",
   "execution_count": 3,
   "id": "7513569c",
   "metadata": {},
   "outputs": [
    {
     "name": "stdout",
     "output_type": "stream",
     "text": [
      "    OrderID      CustomerName                Product     Category  Quantity  \\\n",
      "0      1001        John Smith                 Laptop  Electronics         1   \n",
      "1      1002         Sarah Lee             Headphones  Electronics         2   \n",
      "2      1003          Ali Khan           Office Chair    Furniture         1   \n",
      "3      1004        Alice Wong              Desk Lamp    Furniture         3   \n",
      "4      1005     Carlos Mendez               Keyboard  Electronics         2   \n",
      "5      1006      Nora Ibrahim               Notebook   Stationery         5   \n",
      "6      1007       Emily Davis          Standing Desk    Furniture         1   \n",
      "7      1008        James Park                Monitor  Electronics         2   \n",
      "8      1009       Maria Rossi                    Pen   Stationery        10   \n",
      "9      1010  Takeshi Nakamura                  Mouse  Electronics         1   \n",
      "10     1011     Sophie Martin                 Webcam  Electronics         1   \n",
      "11     1012         Raj Patel           File Cabinet    Furniture         2   \n",
      "12     1013       Emma Wilson                Stapler   Stationery         3   \n",
      "13     1014   Diego Rodriguez              USB Drive  Electronics         5   \n",
      "14     1015         Lisa Chen              Bookshelf    Furniture         1   \n",
      "15     1016      Ahmed Hassan          Printer Paper   Stationery        20   \n",
      "16     1017     Anna Kowalski         Wireless Mouse  Electronics         2   \n",
      "17     1018     Michael Brown         Desk Organizer    Furniture         1   \n",
      "18     1019       Yuki Tanaka             Calculator  Electronics         1   \n",
      "19     1020   Fatima Al-Zahra             Whiteboard    Furniture         1   \n",
      "20     1021    David Thompson           Highlighters   Stationery         8   \n",
      "21     1022    Isabella Silva      Bluetooth Speaker  Electronics         1   \n",
      "22     1023    Oliver Schmidt           Office Plant    Furniture         2   \n",
      "23     1024        Zara Ahmed           Sticky Notes   Stationery        15   \n",
      "24     1025    Lucas Anderson           Tablet Stand  Electronics         1   \n",
      "25     1026      Chloe Dubois         Paper Shredder  Electronics         1   \n",
      "26     1027     Miguel Torres         Desk Chair Mat    Furniture         1   \n",
      "27     1028       Nina Petrov           Binder Clips   Stationery        12   \n",
      "28     1029      Seo-yeon Kim      Wireless Keyboard  Electronics         1   \n",
      "29     1030   Giuseppe Romano          Desk Calendar    Furniture         1   \n",
      "30     1031      Amira Hassan                USB Hub  Electronics         1   \n",
      "31     1032     Thomas Müller       Document Scanner  Electronics         1   \n",
      "32     1033   Sofia Rodriguez  Desk Drawer Organizer    Furniture         1   \n",
      "33     1034      Alex Johnson            Index Cards   Stationery       100   \n",
      "34     1035     Yuki Yamamoto          Monitor Stand  Electronics         1   \n",
      "35     1036     Emma Thompson     Desk Lamp with USB    Furniture         1   \n",
      "36     1037     Carlos Santos       Wireless Earbuds  Electronics         1   \n",
      "37     1038    Leila Mansouri               Desk Pad    Furniture         1   \n",
      "38     1039        Daniel Kim            Power Strip  Electronics         2   \n",
      "39     1040      Anna Ivanova             Desk Clock    Furniture         1   \n",
      "\n",
      "     Price   OrderDate Shipped       Country  \n",
      "0   1200.0  2024-06-01     Yes           USA  \n",
      "1    150.0  2024-06-03      No        Canada  \n",
      "2    300.0  2024-06-04     Yes           UAE  \n",
      "3     45.0  2024-06-05     Yes     Singapore  \n",
      "4     80.0  2024-06-06      No        Mexico  \n",
      "5      5.0  2024-06-07     Yes           UAE  \n",
      "6    450.0  2024-06-08     Yes            UK  \n",
      "7    220.0  2024-06-09      No   South Korea  \n",
      "8      1.5  2024-06-10     Yes         Italy  \n",
      "9     35.0  2024-06-11     Yes         Japan  \n",
      "10    85.0  2024-06-12     Yes        France  \n",
      "11   180.0  2024-06-13      No         India  \n",
      "12    12.0  2024-06-14     Yes     Australia  \n",
      "13    25.0  2024-06-15     Yes         Spain  \n",
      "14   280.0  2024-06-16      No         China  \n",
      "15     8.0  2024-06-17     Yes         Egypt  \n",
      "16    45.0  2024-06-18     Yes        Poland  \n",
      "17    65.0  2024-06-19      No           USA  \n",
      "18    15.0  2024-06-20     Yes         Japan  \n",
      "19   120.0  2024-06-21     Yes  Saudi Arabia  \n",
      "20     3.5  2024-06-22      No        Canada  \n",
      "21    95.0  2024-06-23     Yes        Brazil  \n",
      "22    35.0  2024-06-24     Yes       Germany  \n",
      "23     4.0  2024-06-25      No      Pakistan  \n",
      "24    28.0  2024-06-26     Yes        Sweden  \n",
      "25    75.0  2024-06-27     Yes        France  \n",
      "26    22.0  2024-06-28      No     Argentina  \n",
      "27     2.5  2024-06-29     Yes        Russia  \n",
      "28   110.0  2024-06-30     Yes   South Korea  \n",
      "29    18.0  2024-07-01      No         Italy  \n",
      "30    32.0  2024-07-02     Yes       Morocco  \n",
      "31   140.0  2024-07-03     Yes       Germany  \n",
      "32    42.0  2024-07-04      No      Colombia  \n",
      "33     0.8  2024-07-05     Yes           USA  \n",
      "34    55.0  2024-07-06     Yes         Japan  \n",
      "35    68.0  2024-07-07      No            UK  \n",
      "36   125.0  2024-07-08     Yes      Portugal  \n",
      "37    28.0  2024-07-09     Yes          Iran  \n",
      "38    18.0  2024-07-10      No   South Korea  \n",
      "39    35.0  2024-07-11     Yes       Ukraine  \n"
     ]
    }
   ],
   "source": [
    "print(df)"
   ]
  },
  {
   "cell_type": "markdown",
   "id": "8dd0e7e4",
   "metadata": {
    "vscode": {
     "languageId": "markdown"
    }
   },
   "source": [
    "###Here are some tasks you can perform with your DataFrame `df`:\n",
    "\n",
    "- **Explore data**: View the first/last rows, check column names, data types, and summary statistics.\n",
    "- **Filter and sort**: Find orders by country, shipped status, category, or date; sort by price, quantity, or date.\n",
    "- **Group and aggregate**: Calculate total sales by country, category, or shipped status.\n",
    "- **Create new columns**: Add a \"Total\" column (`Quantity * Price`), extract year/month from `OrderDate`, etc.\n",
    "- **Visualize**: Plot sales by category, shipped vs. not shipped, or sales trends over time.\n",
    "- **Handle missing data**: Check for and fill or drop missing values.\n",
    "- **Export data**: Save filtered or processed data to CSV or Excel.\n",
    "- **Advanced analysis**: Find top customers, most popular products, or shipping rates by country.\n",
    "\n"
   ]
  },
  {
   "cell_type": "code",
   "execution_count": null,
   "id": "9496f176",
   "metadata": {},
   "outputs": [],
   "source": [
    "df.head() #shows first 5 rows - ctrl+alt+enter for quick run"
   ]
  },
  {
   "cell_type": "code",
   "execution_count": null,
   "id": "fd6a5432",
   "metadata": {},
   "outputs": [
    {
     "data": {
      "text/html": [
       "<div>\n",
       "<style scoped>\n",
       "    .dataframe tbody tr th:only-of-type {\n",
       "        vertical-align: middle;\n",
       "    }\n",
       "\n",
       "    .dataframe tbody tr th {\n",
       "        vertical-align: top;\n",
       "    }\n",
       "\n",
       "    .dataframe thead th {\n",
       "        text-align: right;\n",
       "    }\n",
       "</style>\n",
       "<table border=\"1\" class=\"dataframe\">\n",
       "  <thead>\n",
       "    <tr style=\"text-align: right;\">\n",
       "      <th></th>\n",
       "      <th>OrderID</th>\n",
       "      <th>CustomerName</th>\n",
       "      <th>Product</th>\n",
       "      <th>Category</th>\n",
       "      <th>Quantity</th>\n",
       "      <th>Price</th>\n",
       "      <th>OrderDate</th>\n",
       "      <th>Shipped</th>\n",
       "      <th>Country</th>\n",
       "    </tr>\n",
       "  </thead>\n",
       "  <tbody>\n",
       "    <tr>\n",
       "      <th>35</th>\n",
       "      <td>1036</td>\n",
       "      <td>Emma Thompson</td>\n",
       "      <td>Desk Lamp with USB</td>\n",
       "      <td>Furniture</td>\n",
       "      <td>1</td>\n",
       "      <td>68.0</td>\n",
       "      <td>2024-07-07</td>\n",
       "      <td>No</td>\n",
       "      <td>UK</td>\n",
       "    </tr>\n",
       "    <tr>\n",
       "      <th>36</th>\n",
       "      <td>1037</td>\n",
       "      <td>Carlos Santos</td>\n",
       "      <td>Wireless Earbuds</td>\n",
       "      <td>Electronics</td>\n",
       "      <td>1</td>\n",
       "      <td>125.0</td>\n",
       "      <td>2024-07-08</td>\n",
       "      <td>Yes</td>\n",
       "      <td>Portugal</td>\n",
       "    </tr>\n",
       "    <tr>\n",
       "      <th>37</th>\n",
       "      <td>1038</td>\n",
       "      <td>Leila Mansouri</td>\n",
       "      <td>Desk Pad</td>\n",
       "      <td>Furniture</td>\n",
       "      <td>1</td>\n",
       "      <td>28.0</td>\n",
       "      <td>2024-07-09</td>\n",
       "      <td>Yes</td>\n",
       "      <td>Iran</td>\n",
       "    </tr>\n",
       "    <tr>\n",
       "      <th>38</th>\n",
       "      <td>1039</td>\n",
       "      <td>Daniel Kim</td>\n",
       "      <td>Power Strip</td>\n",
       "      <td>Electronics</td>\n",
       "      <td>2</td>\n",
       "      <td>18.0</td>\n",
       "      <td>2024-07-10</td>\n",
       "      <td>No</td>\n",
       "      <td>South Korea</td>\n",
       "    </tr>\n",
       "    <tr>\n",
       "      <th>39</th>\n",
       "      <td>1040</td>\n",
       "      <td>Anna Ivanova</td>\n",
       "      <td>Desk Clock</td>\n",
       "      <td>Furniture</td>\n",
       "      <td>1</td>\n",
       "      <td>35.0</td>\n",
       "      <td>2024-07-11</td>\n",
       "      <td>Yes</td>\n",
       "      <td>Ukraine</td>\n",
       "    </tr>\n",
       "  </tbody>\n",
       "</table>\n",
       "</div>"
      ],
      "text/plain": [
       "    OrderID    CustomerName             Product     Category  Quantity  Price  \\\n",
       "35     1036   Emma Thompson  Desk Lamp with USB    Furniture         1   68.0   \n",
       "36     1037   Carlos Santos    Wireless Earbuds  Electronics         1  125.0   \n",
       "37     1038  Leila Mansouri            Desk Pad    Furniture         1   28.0   \n",
       "38     1039      Daniel Kim         Power Strip  Electronics         2   18.0   \n",
       "39     1040    Anna Ivanova          Desk Clock    Furniture         1   35.0   \n",
       "\n",
       "     OrderDate Shipped      Country  \n",
       "35  2024-07-07      No           UK  \n",
       "36  2024-07-08     Yes     Portugal  \n",
       "37  2024-07-09     Yes         Iran  \n",
       "38  2024-07-10      No  South Korea  \n",
       "39  2024-07-11     Yes      Ukraine  "
      ]
     },
     "execution_count": 12,
     "metadata": {},
     "output_type": "execute_result"
    }
   ],
   "source": [
    "df.tail()"
   ]
  },
  {
   "cell_type": "markdown",
   "id": "b97c58aa",
   "metadata": {},
   "source": [
    "Ctrl+enter - run cell\n",
    "shift+enter - run cell and select/insert below\n",
    "alt+enter - run sell and insert below"
   ]
  },
  {
   "cell_type": "code",
   "execution_count": null,
   "id": "76fab534",
   "metadata": {},
   "outputs": [
    {
     "name": "stdout",
     "output_type": "stream",
     "text": [
      "<class 'pandas.core.frame.DataFrame'>\n",
      "RangeIndex: 40 entries, 0 to 39\n",
      "Data columns (total 9 columns):\n",
      " #   Column        Non-Null Count  Dtype  \n",
      "---  ------        --------------  -----  \n",
      " 0   OrderID       40 non-null     int64  \n",
      " 1   CustomerName  40 non-null     object \n",
      " 2   Product       40 non-null     object \n",
      " 3   Category      40 non-null     object \n",
      " 4   Quantity      40 non-null     int64  \n",
      " 5   Price         40 non-null     float64\n",
      " 6   OrderDate     40 non-null     object \n",
      " 7   Shipped       40 non-null     object \n",
      " 8   Country       40 non-null     object \n",
      "dtypes: float64(1), int64(2), object(6)\n",
      "memory usage: 2.9+ KB\n"
     ]
    }
   ],
   "source": [
    "df.info()"
   ]
  },
  {
   "cell_type": "markdown",
   "id": "789839f1",
   "metadata": {},
   "source": [
    "`df.describe()` provides summary statistics for the numerical columns in the DataFrame. It includes:\n",
    "\n",
    "- **count**: Number of non-null entries\n",
    "- **mean**: Average value\n",
    "- **std**: Standard deviation\n",
    "- **min**: Minimum value\n",
    "- **25%**: 25th percentile (first quartile)\n",
    "- **50%**: 50th percentile (median)\n",
    "- **75%**: 75th percentile (third quartile)\n",
    "- **max**: Maximum value\n",
    "\n",
    "This helps you quickly understand the distribution and spread of your data."
   ]
  },
  {
   "cell_type": "code",
   "execution_count": null,
   "id": "f6d79ab2",
   "metadata": {},
   "outputs": [
    {
     "data": {
      "text/html": [
       "<div>\n",
       "<style scoped>\n",
       "    .dataframe tbody tr th:only-of-type {\n",
       "        vertical-align: middle;\n",
       "    }\n",
       "\n",
       "    .dataframe tbody tr th {\n",
       "        vertical-align: top;\n",
       "    }\n",
       "\n",
       "    .dataframe thead th {\n",
       "        text-align: right;\n",
       "    }\n",
       "</style>\n",
       "<table border=\"1\" class=\"dataframe\">\n",
       "  <thead>\n",
       "    <tr style=\"text-align: right;\">\n",
       "      <th></th>\n",
       "      <th>OrderID</th>\n",
       "      <th>Quantity</th>\n",
       "      <th>Price</th>\n",
       "    </tr>\n",
       "  </thead>\n",
       "  <tbody>\n",
       "    <tr>\n",
       "      <th>count</th>\n",
       "      <td>40.000000</td>\n",
       "      <td>40.000000</td>\n",
       "      <td>40.000000</td>\n",
       "    </tr>\n",
       "    <tr>\n",
       "      <th>mean</th>\n",
       "      <td>1020.500000</td>\n",
       "      <td>5.450000</td>\n",
       "      <td>106.457500</td>\n",
       "    </tr>\n",
       "    <tr>\n",
       "      <th>std</th>\n",
       "      <td>11.690452</td>\n",
       "      <td>15.903475</td>\n",
       "      <td>201.091854</td>\n",
       "    </tr>\n",
       "    <tr>\n",
       "      <th>min</th>\n",
       "      <td>1001.000000</td>\n",
       "      <td>1.000000</td>\n",
       "      <td>0.800000</td>\n",
       "    </tr>\n",
       "    <tr>\n",
       "      <th>25%</th>\n",
       "      <td>1010.750000</td>\n",
       "      <td>1.000000</td>\n",
       "      <td>18.000000</td>\n",
       "    </tr>\n",
       "    <tr>\n",
       "      <th>50%</th>\n",
       "      <td>1020.500000</td>\n",
       "      <td>1.000000</td>\n",
       "      <td>43.500000</td>\n",
       "    </tr>\n",
       "    <tr>\n",
       "      <th>75%</th>\n",
       "      <td>1030.250000</td>\n",
       "      <td>2.250000</td>\n",
       "      <td>112.500000</td>\n",
       "    </tr>\n",
       "    <tr>\n",
       "      <th>max</th>\n",
       "      <td>1040.000000</td>\n",
       "      <td>100.000000</td>\n",
       "      <td>1200.000000</td>\n",
       "    </tr>\n",
       "  </tbody>\n",
       "</table>\n",
       "</div>"
      ],
      "text/plain": [
       "           OrderID    Quantity        Price\n",
       "count    40.000000   40.000000    40.000000\n",
       "mean   1020.500000    5.450000   106.457500\n",
       "std      11.690452   15.903475   201.091854\n",
       "min    1001.000000    1.000000     0.800000\n",
       "25%    1010.750000    1.000000    18.000000\n",
       "50%    1020.500000    1.000000    43.500000\n",
       "75%    1030.250000    2.250000   112.500000\n",
       "max    1040.000000  100.000000  1200.000000"
      ]
     },
     "execution_count": 14,
     "metadata": {},
     "output_type": "execute_result"
    }
   ],
   "source": [
    "df.describe()"
   ]
  },
  {
   "cell_type": "code",
   "execution_count": null,
   "id": "4c37105d",
   "metadata": {},
   "outputs": [
    {
     "data": {
      "text/plain": [
       "Index(['OrderID', 'CustomerName', 'Product', 'Category', 'Quantity', 'Price',\n",
       "       'OrderDate', 'Shipped', 'Country'],\n",
       "      dtype='object')"
      ]
     },
     "execution_count": 17,
     "metadata": {},
     "output_type": "execute_result"
    }
   ],
   "source": [
    "df.columns #gives us the column names as a list"
   ]
  },
  {
   "cell_type": "code",
   "execution_count": null,
   "id": "add0fe37",
   "metadata": {},
   "outputs": [
    {
     "data": {
      "text/plain": [
       "RangeIndex(start=0, stop=40, step=1)"
      ]
     },
     "execution_count": 21,
     "metadata": {},
     "output_type": "execute_result"
    }
   ],
   "source": [
    "df.index #gives us the range of csv file"
   ]
  },
  {
   "cell_type": "markdown",
   "id": "0b4cb280",
   "metadata": {},
   "source": [
    "### you need head(), tail(), info(), describe(), columns and index commands to analyze the data and start working on it"
   ]
  },
  {
   "cell_type": "markdown",
   "id": "fcef06a5",
   "metadata": {},
   "source": [
    "## Indexing by raws and columns"
   ]
  },
  {
   "cell_type": "markdown",
   "id": "ab345242",
   "metadata": {},
   "source": [
    "when you analyze the data in the csv or any other files, you might need to print/collect or make some other kind of actions on the data depending on the specifications like raws or columns, so we'll be reviweing this right now."
   ]
  },
  {
   "cell_type": "code",
   "execution_count": 5,
   "id": "84b22082",
   "metadata": {},
   "outputs": [
    {
     "data": {
      "text/plain": [
       "Index(['OrderID', 'CustomerName', 'Product', 'Category', 'Quantity', 'Price',\n",
       "       'OrderDate', 'Shipped', 'Country'],\n",
       "      dtype='object')"
      ]
     },
     "execution_count": 5,
     "metadata": {},
     "output_type": "execute_result"
    }
   ],
   "source": [
    "df.columns"
   ]
  },
  {
   "cell_type": "code",
   "execution_count": 8,
   "id": "54d189ce",
   "metadata": {},
   "outputs": [
    {
     "data": {
      "text/plain": [
       "0              USA\n",
       "1           Canada\n",
       "2              UAE\n",
       "3        Singapore\n",
       "4           Mexico\n",
       "5              UAE\n",
       "6               UK\n",
       "7      South Korea\n",
       "8            Italy\n",
       "9            Japan\n",
       "10          France\n",
       "11           India\n",
       "12       Australia\n",
       "13           Spain\n",
       "14           China\n",
       "15           Egypt\n",
       "16          Poland\n",
       "17             USA\n",
       "18           Japan\n",
       "19    Saudi Arabia\n",
       "20          Canada\n",
       "21          Brazil\n",
       "22         Germany\n",
       "23        Pakistan\n",
       "24          Sweden\n",
       "25          France\n",
       "26       Argentina\n",
       "27          Russia\n",
       "28     South Korea\n",
       "29           Italy\n",
       "30         Morocco\n",
       "31         Germany\n",
       "32        Colombia\n",
       "33             USA\n",
       "34           Japan\n",
       "35              UK\n",
       "36        Portugal\n",
       "37            Iran\n",
       "38     South Korea\n",
       "39         Ukraine\n",
       "Name: Country, dtype: object"
      ]
     },
     "execution_count": 8,
     "metadata": {},
     "output_type": "execute_result"
    }
   ],
   "source": [
    "df[\"Country\"] #returns the series of the column called country"
   ]
  },
  {
   "cell_type": "code",
   "execution_count": 11,
   "id": "f1a9e863",
   "metadata": {},
   "outputs": [
    {
     "data": {
      "text/plain": [
       "40"
      ]
     },
     "execution_count": 11,
     "metadata": {},
     "output_type": "execute_result"
    }
   ],
   "source": [
    "len(df[\"Country\"])"
   ]
  },
  {
   "cell_type": "code",
   "execution_count": 12,
   "id": "23ecb69e",
   "metadata": {},
   "outputs": [
    {
     "data": {
      "text/plain": [
       "{'Argentina',\n",
       " 'Australia',\n",
       " 'Brazil',\n",
       " 'Canada',\n",
       " 'China',\n",
       " 'Colombia',\n",
       " 'Egypt',\n",
       " 'France',\n",
       " 'Germany',\n",
       " 'India',\n",
       " 'Iran',\n",
       " 'Italy',\n",
       " 'Japan',\n",
       " 'Mexico',\n",
       " 'Morocco',\n",
       " 'Pakistan',\n",
       " 'Poland',\n",
       " 'Portugal',\n",
       " 'Russia',\n",
       " 'Saudi Arabia',\n",
       " 'Singapore',\n",
       " 'South Korea',\n",
       " 'Spain',\n",
       " 'Sweden',\n",
       " 'UAE',\n",
       " 'UK',\n",
       " 'USA',\n",
       " 'Ukraine'}"
      ]
     },
     "execution_count": 12,
     "metadata": {},
     "output_type": "execute_result"
    }
   ],
   "source": [
    "set(df[\"Country\"])"
   ]
  },
  {
   "cell_type": "code",
   "execution_count": 14,
   "id": "6e9f08d7",
   "metadata": {},
   "outputs": [
    {
     "data": {
      "text/plain": [
       "['USA',\n",
       " 'Canada',\n",
       " 'UAE',\n",
       " 'Singapore',\n",
       " 'Mexico',\n",
       " 'UAE',\n",
       " 'UK',\n",
       " 'South Korea',\n",
       " 'Italy',\n",
       " 'Japan',\n",
       " 'France',\n",
       " 'India',\n",
       " 'Australia',\n",
       " 'Spain',\n",
       " 'China',\n",
       " 'Egypt',\n",
       " 'Poland',\n",
       " 'USA',\n",
       " 'Japan',\n",
       " 'Saudi Arabia',\n",
       " 'Canada',\n",
       " 'Brazil',\n",
       " 'Germany',\n",
       " 'Pakistan',\n",
       " 'Sweden',\n",
       " 'France',\n",
       " 'Argentina',\n",
       " 'Russia',\n",
       " 'South Korea',\n",
       " 'Italy',\n",
       " 'Morocco',\n",
       " 'Germany',\n",
       " 'Colombia',\n",
       " 'USA',\n",
       " 'Japan',\n",
       " 'UK',\n",
       " 'Portugal',\n",
       " 'Iran',\n",
       " 'South Korea',\n",
       " 'Ukraine']"
      ]
     },
     "execution_count": 14,
     "metadata": {},
     "output_type": "execute_result"
    }
   ],
   "source": [
    "list(df[\"Country\"])"
   ]
  },
  {
   "cell_type": "code",
   "execution_count": null,
   "id": "2317cc80",
   "metadata": {},
   "outputs": [],
   "source": []
  },
  {
   "cell_type": "code",
   "execution_count": null,
   "id": "281d49a4",
   "metadata": {},
   "outputs": [],
   "source": []
  }
 ],
 "metadata": {
  "kernelspec": {
   "display_name": "venv",
   "language": "python",
   "name": "python3"
  },
  "language_info": {
   "codemirror_mode": {
    "name": "ipython",
    "version": 3
   },
   "file_extension": ".py",
   "mimetype": "text/x-python",
   "name": "python",
   "nbconvert_exporter": "python",
   "pygments_lexer": "ipython3",
   "version": "3.12.0"
  }
 },
 "nbformat": 4,
 "nbformat_minor": 5
}
